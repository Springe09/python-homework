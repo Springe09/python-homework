{
 "cells": [
  {
   "cell_type": "code",
   "execution_count": 197,
   "id": "d1100a5b-ffe1-4db9-9946-0123c0198794",
   "metadata": {},
   "outputs": [
    {
     "name": "stdout",
     "output_type": "stream",
     "text": [
      "Current working directory: C:\\Users\\sprin\\Desktop\n"
     ]
    }
   ],
   "source": [
    "# Import the pathlib and csv library\n",
    "from pathlib import Path\n",
    "import csv\n",
    "import os\n",
    "\n",
    "cwd=os.getcwd()\n",
    "print(\"Current working directory: {0}\".format(cwd))\n",
    "\n",
    "# Set the file path\n",
    "budget_csvpath = Path(\"../Desktop/budget_data.csv\")\n",
    "\n",
    "# Initialize variable to hold net total maount of P&L\n",
    "net_total_amount= []\n",
    "\n",
    "# Initialize variable to hold average of the changes in P&L\n",
    "average_amount= []\n",
    "\n",
    "# Initialize total months variable\n",
    "total_months = []\n",
    "\n",
    "#Initialize greatest increase variable\n",
    "greatest_increase= 0\n",
    "\n",
    "#Initialize greatest decrease variable\n",
    "greatest_decrease= 0\n",
    "\n",
    "#Initialize variables\n",
    "line_num=0\n",
    "i=1\n",
    "j=0\n",
    "\n",
    "\n",
    "\n"
   ]
  },
  {
   "cell_type": "code",
   "execution_count": 198,
   "id": "6ccbd097-c239-4c1b-844a-04d38225f80b",
   "metadata": {},
   "outputs": [],
   "source": [
    "# Open the input path as a file object\n",
    "with open(budget_csvpath, 'r') as csvfile:\n",
    "\n",
    "    # Pass in the csv file to the csv.reader() function\n",
    "    # (with ',' as the delmiter/separator) and return the csvreader object\n",
    "    csvreader = csv.reader(csvfile, delimiter=',')\n",
    "\n",
    "    # Go to the next row from the start of the file\n",
    "    # (which is often the first row/header) and iterate line_num by 1\n",
    "    header = next(csvreader)\n",
    "    line_num += 1\n",
    "    # Print the header\n",
    "    #print(f\"{header} <---- HEADER\")\n",
    "    \n",
    "    for row in csvreader:\n",
    "        #print(row)\n",
    "    # Create list to store months as string and calculate total months    \n",
    "        total_months.append(str(row[0]))\n",
    "        total= len(total_months)\n",
    "    # Create list to store p&l amounts as integers and calculate total net amounts\n",
    "        net_total_amount.append(int(row[1]))\n",
    "        net_total=sum(net_total_amount)\n",
    "    \n",
    "    # Calculate the difference from one month to next month: store in list\n",
    "    for change in range(total-1):\n",
    "        difference= (net_total_amount[i]-net_total_amount[j])\n",
    "        average_amount.append(int(difference))\n",
    "        i+=1\n",
    "        j+=1\n",
    "        \n",
    "    # Calculate the average of the list created with month differences above\n",
    "        average_change= round(sum(average_amount)/(total -1),2)\n",
    "        \n",
    "        \n",
    "    # Determine greatest increase and greatest decrease\n",
    "        \n",
    "        if greatest_increase ==0:\n",
    "            greatest_increase = difference\n",
    "        elif difference > greatest_increase:\n",
    "            greatest_increase = difference\n",
    "        elif difference < greatest_decrease:\n",
    "            greatest_decrease = difference\n",
    "            \n",
    "        #Find the position of the greatest increase and decrease and return the position number; find the month with that postion number   \n",
    "        #index_find =average_amount.index(greatest_increase)\n",
    "        #index_2_find =average_amount.index(greatest_decrease)\n",
    "        #print('the index is:', index_find)\n",
    "        #print('the index is:', index_2_find)\n",
    "        #print(total_months[index_find+1])\n",
    "        #print(total_months[index_2_find+1])\n",
    "        \n",
    "    \n",
    "        \n"
   ]
  },
  {
   "cell_type": "code",
   "execution_count": 202,
   "id": "b488914a-2331-4ab6-a897-2616e97abd2b",
   "metadata": {},
   "outputs": [
    {
     "name": "stdout",
     "output_type": "stream",
     "text": [
      "---------Financial Analysis----------\n",
      "Total months : 86\n",
      "Net Total P&L : $38382578\n",
      "Average monthly change: $-2315.12\n",
      "Greatest increase in profits: $1926159, Feb-2012\n",
      "Greatest decrease in profits: $-2196167, Sep-2013\n"
     ]
    }
   ],
   "source": [
    "print(\"---------Financial Analysis----------\")        \n",
    "print (f\"Total months : {total}\")\n",
    "print (f\"Net Total P&L : ${net_total}\")\n",
    "print (f\"Average monthly change: ${average_change}\")\n",
    "print (f\"Greatest increase in profits: ${greatest_increase}, {total_months[index_find+1]}\")\n",
    "print (f\"Greatest decrease in profits: ${greatest_decrease}, {total_months[index_2_find+1]}\")"
   ]
  },
  {
   "cell_type": "code",
   "execution_count": 209,
   "id": "a433a414-dd13-4bac-864c-0ae3f42b875a",
   "metadata": {},
   "outputs": [],
   "source": [
    "# Set the output file path\n",
    "output_path = Path(\"PyBank.txt\")\n",
    "\n",
    "# Open the output_path as a file object in \"write\" mode ('w')\n",
    "# Write a header line and write the contents of 'text' to the file\n",
    "with open(output_path, 'w') as f:\n",
    "    f.write(\"---------Financial Analysis----------\\n\")\n",
    "    f.write(f\"Total months : {total}\\n\")\n",
    "    f.write(f\"Net Total P&L : ${net_total}\\n\")\n",
    "    f.write(f\"Average monthly change: ${average_change}\\n\")\n",
    "    f.write(f\"Greatest increase in profits: ${greatest_increase}, {total_months[index_find+1]}\\n\")\n",
    "    f.write(f\"Greatest decrease in profits: ${greatest_decrease}, {total_months[index_2_find+1]}\\n\")"
   ]
  },
  {
   "cell_type": "code",
   "execution_count": null,
   "id": "847baa78-fa9b-4653-8ed2-1b3b562b0d3f",
   "metadata": {},
   "outputs": [],
   "source": []
  },
  {
   "cell_type": "code",
   "execution_count": null,
   "id": "2610d577-cfbc-4dbd-82de-2a403d2cb02b",
   "metadata": {},
   "outputs": [],
   "source": []
  },
  {
   "cell_type": "code",
   "execution_count": null,
   "id": "57ce9a6c-862b-480d-8181-db491d724808",
   "metadata": {},
   "outputs": [],
   "source": []
  }
 ],
 "metadata": {
  "kernelspec": {
   "display_name": "Python 3 (ipykernel)",
   "language": "python",
   "name": "python3"
  },
  "language_info": {
   "codemirror_mode": {
    "name": "ipython",
    "version": 3
   },
   "file_extension": ".py",
   "mimetype": "text/x-python",
   "name": "python",
   "nbconvert_exporter": "python",
   "pygments_lexer": "ipython3",
   "version": "3.9.7"
  }
 },
 "nbformat": 4,
 "nbformat_minor": 5
}
